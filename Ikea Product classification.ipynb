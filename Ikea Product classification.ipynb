{
 "cells": [
  {
   "cell_type": "code",
   "execution_count": 1,
   "metadata": {},
   "outputs": [
    {
     "name": "stderr",
     "output_type": "stream",
     "text": [
      "Using TensorFlow backend.\n",
      "WARNING: Logging before flag parsing goes to stderr.\n",
      "W0715 17:17:42.140891 140686747932480 deprecation_wrapper.py:119] From /home/kanishka/anaconda3/lib/python3.7/site-packages/keras/backend/tensorflow_backend.py:74: The name tf.get_default_graph is deprecated. Please use tf.compat.v1.get_default_graph instead.\n",
      "\n",
      "W0715 17:17:42.160212 140686747932480 deprecation_wrapper.py:119] From /home/kanishka/anaconda3/lib/python3.7/site-packages/keras/backend/tensorflow_backend.py:517: The name tf.placeholder is deprecated. Please use tf.compat.v1.placeholder instead.\n",
      "\n",
      "W0715 17:17:42.164270 140686747932480 deprecation_wrapper.py:119] From /home/kanishka/anaconda3/lib/python3.7/site-packages/keras/backend/tensorflow_backend.py:4138: The name tf.random_uniform is deprecated. Please use tf.random.uniform instead.\n",
      "\n",
      "W0715 17:17:42.200224 140686747932480 deprecation_wrapper.py:119] From /home/kanishka/anaconda3/lib/python3.7/site-packages/keras/backend/tensorflow_backend.py:3976: The name tf.nn.max_pool is deprecated. Please use tf.nn.max_pool2d instead.\n",
      "\n",
      "W0715 17:17:42.211157 140686747932480 deprecation_wrapper.py:119] From /home/kanishka/anaconda3/lib/python3.7/site-packages/keras/backend/tensorflow_backend.py:133: The name tf.placeholder_with_default is deprecated. Please use tf.compat.v1.placeholder_with_default instead.\n",
      "\n",
      "W0715 17:17:42.230857 140686747932480 deprecation.py:506] From /home/kanishka/anaconda3/lib/python3.7/site-packages/keras/backend/tensorflow_backend.py:3445: calling dropout (from tensorflow.python.ops.nn_ops) with keep_prob is deprecated and will be removed in a future version.\n",
      "Instructions for updating:\n",
      "Please use `rate` instead of `keep_prob`. Rate should be set to `rate = 1 - keep_prob`.\n",
      "W0715 17:17:42.446525 140686747932480 deprecation_wrapper.py:119] From /home/kanishka/anaconda3/lib/python3.7/site-packages/keras/optimizers.py:790: The name tf.train.Optimizer is deprecated. Please use tf.compat.v1.train.Optimizer instead.\n",
      "\n",
      "W0715 17:17:42.505328 140686747932480 deprecation_wrapper.py:119] From /home/kanishka/anaconda3/lib/python3.7/site-packages/keras/backend/tensorflow_backend.py:3295: The name tf.log is deprecated. Please use tf.math.log instead.\n",
      "\n"
     ]
    },
    {
     "name": "stdout",
     "output_type": "stream",
     "text": [
      "Found 1373 images belonging to 4 classes.\n",
      "Found 333 images belonging to 4 classes.\n"
     ]
    },
    {
     "name": "stderr",
     "output_type": "stream",
     "text": [
      "W0715 17:17:42.880936 140686747932480 deprecation.py:323] From /home/kanishka/anaconda3/lib/python3.7/site-packages/tensorflow/python/ops/math_grad.py:1250: add_dispatch_support.<locals>.wrapper (from tensorflow.python.ops.array_ops) is deprecated and will be removed in a future version.\n",
      "Instructions for updating:\n",
      "Use tf.where in 2.0, which has the same broadcast rule as np.where\n"
     ]
    },
    {
     "name": "stdout",
     "output_type": "stream",
     "text": [
      "Epoch 1/25\n",
      "22/68 [========>.....................] - ETA: 28s - loss: 1.6326 - acc: 0.2977"
     ]
    },
    {
     "name": "stderr",
     "output_type": "stream",
     "text": [
      "/home/kanishka/anaconda3/lib/python3.7/site-packages/PIL/TiffImagePlugin.py:780: UserWarning: Corrupt EXIF data.  Expecting to read 4 bytes but only got 0. \n",
      "  warnings.warn(str(msg))\n"
     ]
    },
    {
     "name": "stdout",
     "output_type": "stream",
     "text": [
      "68/68 [==============================] - 39s 581ms/step - loss: 1.4181 - acc: 0.3772 - val_loss: 1.2433 - val_acc: 0.4844\n",
      "Epoch 2/25\n",
      "68/68 [==============================] - 37s 540ms/step - loss: 1.0540 - acc: 0.5657 - val_loss: 1.1005 - val_acc: 0.5751\n",
      "Epoch 3/25\n",
      "68/68 [==============================] - 37s 538ms/step - loss: 0.9733 - acc: 0.5966 - val_loss: 1.0796 - val_acc: 0.5719\n",
      "Epoch 4/25\n",
      "68/68 [==============================] - 37s 550ms/step - loss: 0.9544 - acc: 0.6139 - val_loss: 1.0699 - val_acc: 0.5655\n",
      "Epoch 5/25\n",
      "68/68 [==============================] - 38s 552ms/step - loss: 0.9567 - acc: 0.6303 - val_loss: 1.0301 - val_acc: 0.6070\n",
      "Epoch 6/25\n",
      "68/68 [==============================] - 38s 552ms/step - loss: 0.9013 - acc: 0.6518 - val_loss: 1.0458 - val_acc: 0.5655\n",
      "Epoch 7/25\n",
      "68/68 [==============================] - 36s 533ms/step - loss: 0.8995 - acc: 0.6454 - val_loss: 1.0370 - val_acc: 0.5942\n",
      "Epoch 8/25\n",
      "68/68 [==============================] - 38s 554ms/step - loss: 0.8965 - acc: 0.6584 - val_loss: 1.0262 - val_acc: 0.5783\n",
      "Epoch 9/25\n",
      "68/68 [==============================] - 37s 541ms/step - loss: 0.8757 - acc: 0.6616 - val_loss: 1.0583 - val_acc: 0.5431\n",
      "Epoch 10/25\n",
      "68/68 [==============================] - 38s 558ms/step - loss: 0.8712 - acc: 0.6601 - val_loss: 0.9455 - val_acc: 0.6230\n",
      "Epoch 11/25\n",
      "68/68 [==============================] - 38s 559ms/step - loss: 0.8454 - acc: 0.6756 - val_loss: 0.9526 - val_acc: 0.6070\n",
      "Epoch 12/25\n",
      "68/68 [==============================] - 37s 549ms/step - loss: 0.8193 - acc: 0.6974 - val_loss: 1.0209 - val_acc: 0.6006\n",
      "Epoch 13/25\n",
      "68/68 [==============================] - 37s 538ms/step - loss: 0.7985 - acc: 0.6966 - val_loss: 0.9045 - val_acc: 0.6518\n",
      "Epoch 14/25\n",
      "68/68 [==============================] - 38s 553ms/step - loss: 0.7963 - acc: 0.6863 - val_loss: 0.8847 - val_acc: 0.6518\n",
      "Epoch 15/25\n",
      "68/68 [==============================] - 37s 545ms/step - loss: 0.7742 - acc: 0.7029 - val_loss: 0.9237 - val_acc: 0.6454\n",
      "Epoch 16/25\n",
      "68/68 [==============================] - 36s 533ms/step - loss: 0.7780 - acc: 0.6898 - val_loss: 0.8948 - val_acc: 0.6454\n",
      "Epoch 17/25\n",
      "68/68 [==============================] - 39s 573ms/step - loss: 0.7267 - acc: 0.7264 - val_loss: 1.0245 - val_acc: 0.6006\n",
      "Epoch 18/25\n",
      "68/68 [==============================] - 37s 549ms/step - loss: 0.6978 - acc: 0.7367 - val_loss: 0.8759 - val_acc: 0.6750\n",
      "Epoch 19/25\n",
      "68/68 [==============================] - 38s 563ms/step - loss: 0.7205 - acc: 0.7197 - val_loss: 0.8235 - val_acc: 0.6741\n",
      "Epoch 20/25\n",
      "68/68 [==============================] - 39s 570ms/step - loss: 0.6666 - acc: 0.7444 - val_loss: 0.8219 - val_acc: 0.6454\n",
      "Epoch 21/25\n",
      "68/68 [==============================] - 38s 557ms/step - loss: 0.6513 - acc: 0.7495 - val_loss: 0.8010 - val_acc: 0.7029\n",
      "Epoch 22/25\n",
      "68/68 [==============================] - 36s 527ms/step - loss: 0.5876 - acc: 0.7768 - val_loss: 0.7546 - val_acc: 0.7029\n",
      "Epoch 23/25\n",
      "68/68 [==============================] - 37s 540ms/step - loss: 0.6059 - acc: 0.7705 - val_loss: 0.8443 - val_acc: 0.6581\n",
      "Epoch 24/25\n",
      "68/68 [==============================] - 41s 596ms/step - loss: 0.5848 - acc: 0.7672 - val_loss: 0.7312 - val_acc: 0.7029\n",
      "Epoch 25/25\n",
      "68/68 [==============================] - 39s 581ms/step - loss: 0.5803 - acc: 0.7713 - val_loss: 0.7586 - val_acc: 0.7252\n"
     ]
    }
   ],
   "source": [
    "from keras.models import Sequential\n",
    "from keras.layers import Conv2D, MaxPooling2D\n",
    "from keras.layers import Activation, Dropout, Flatten, Dense\n",
    "from keras.preprocessing.image import ImageDataGenerator\n",
    "\n",
    "model = Sequential()\n",
    "model.add(Conv2D(32, kernel_size=(3, 3),activation='relu',input_shape=(150,150,3)))\n",
    "model.add(MaxPooling2D(pool_size=(2, 2)))\n",
    "model.add(Dropout(0.25))\n",
    "\n",
    "model.add(Conv2D(32, kernel_size=(3, 3),activation='relu'))\n",
    "model.add(MaxPooling2D(pool_size=(2, 2)))\n",
    "model.add(Dropout(0.5))\n",
    "\n",
    "model.add(Flatten())\n",
    "model.add(Dense(4, activation='softmax'))\n",
    "\n",
    "model.compile(loss='categorical_crossentropy',\n",
    "              optimizer='SGD',\n",
    "              metrics=['accuracy'])\n",
    "\n",
    "batch_size = 20\n",
    "\n",
    "# data augmentation configuration for training\n",
    "train_datagen = ImageDataGenerator(\n",
    "        rescale=1./255,\n",
    "        shear_range=0.2,\n",
    "        zoom_range=0.2,\n",
    "        horizontal_flip=True)\n",
    "\n",
    "validation_datagen = ImageDataGenerator(rescale=1./255)\n",
    "\n",
    "# batches of augmented image data\n",
    "train_generator = train_datagen.flow_from_directory(\n",
    "        '/home/kanishka/Projects/Ikea product classification/downloads/Train',  \n",
    "        target_size=(150, 150), \n",
    "        batch_size=batch_size,\n",
    "    shuffle = True,\n",
    "        class_mode='categorical')  \n",
    "\n",
    "validation_generator = validation_datagen.flow_from_directory(\n",
    "        '/home/kanishka/Projects/Ikea product classification/downloads/Validation',\n",
    "        target_size=(150, 150),\n",
    "        batch_size=batch_size,\n",
    "    shuffle = True,\n",
    "        class_mode='categorical')\n",
    "\n",
    "model.fit_generator(\n",
    "        train_generator,\n",
    "        steps_per_epoch=1373 // batch_size,\n",
    "        epochs=25,\n",
    "        validation_data=validation_generator,\n",
    "        validation_steps=333 // batch_size)\n"
   ]
  },
  {
   "cell_type": "code",
   "execution_count": 56,
   "metadata": {},
   "outputs": [],
   "source": [
    "model.save('myModel.h5')\n",
    "model.save_weights('Ikea_classification_weights.h5')"
   ]
  },
  {
   "cell_type": "code",
   "execution_count": 50,
   "metadata": {},
   "outputs": [
    {
     "name": "stdout",
     "output_type": "stream",
     "text": [
      "Found 48 images belonging to 4 classes.\n",
      "Accuracy: 82.50%\n"
     ]
    }
   ],
   "source": [
    "datagen = ImageDataGenerator(rescale=1./255,\n",
    "        shear_range=0.2,\n",
    "        zoom_range=0.2)\n",
    "test_data = datagen.flow_from_directory('/home/kanishka/Projects/Ikea product classification/downloads/Test',\n",
    "                                       target_size = (150, 150),\n",
    "                                       batch_size = batch_size, shuffle = False)\n",
    "acc = model.evaluate_generator(test_data, 48//batch_size)[1]\n",
    "print(\"Accuracy: %.2f\"%(acc*100)+\"%\")"
   ]
  },
  {
   "cell_type": "code",
   "execution_count": 55,
   "metadata": {},
   "outputs": [
    {
     "name": "stdout",
     "output_type": "stream",
     "text": [
      "CONFUSION MATRIX\n",
      " [[11  0  0  1]\n",
      " [ 0 11  0  1]\n",
      " [ 1  0  6  5]\n",
      " [ 0  0  1 11]]\n"
     ]
    }
   ],
   "source": [
    "from sklearn.metrics import confusion_matrix, classification_report\n",
    "Test_pred = model.predict_generator(test_data, 48//batch_size+1)\n",
    "test_pred = np.argmax(Test_pred, axis =1)\n",
    "\n",
    "print ('CONFUSION MATRIX\\n',confusion_matrix(test_data.labels, test_pred))"
   ]
  },
  {
   "cell_type": "code",
   "execution_count": null,
   "metadata": {},
   "outputs": [],
   "source": []
  },
  {
   "cell_type": "code",
   "execution_count": null,
   "metadata": {},
   "outputs": [],
   "source": []
  }
 ],
 "metadata": {
  "kernelspec": {
   "display_name": "Python 3",
   "language": "python",
   "name": "python3"
  },
  "language_info": {
   "codemirror_mode": {
    "name": "ipython",
    "version": 3
   },
   "file_extension": ".py",
   "mimetype": "text/x-python",
   "name": "python",
   "nbconvert_exporter": "python",
   "pygments_lexer": "ipython3",
   "version": "3.7.3"
  },
  "widgets": {
   "application/vnd.jupyter.widget-state+json": {
    "state": {},
    "version_major": 2,
    "version_minor": 0
   }
  }
 },
 "nbformat": 4,
 "nbformat_minor": 2
}
